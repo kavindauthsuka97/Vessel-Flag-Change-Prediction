{
  "cells": [
    {
      "cell_type": "code",
      "source": [
        "pip install psycopg2"
      ],
      "outputs": [
        {
          "output_type": "stream",
          "name": "stdout",
          "text": "Requirement already satisfied: psycopg2 in /anaconda/envs/azureml_py310_sdkv2/lib/python3.10/site-packages (2.9.10)\nNote: you may need to restart the kernel to use updated packages.\n"
        }
      ],
      "execution_count": 1,
      "metadata": {
        "jupyter": {
          "source_hidden": false,
          "outputs_hidden": false
        },
        "nteract": {
          "transient": {
            "deleting": false
          }
        },
        "gather": {
          "logged": 1736879340939
        }
      }
    },
    {
      "cell_type": "code",
      "source": [
        "pip install psycopg2-binary"
      ],
      "outputs": [
        {
          "output_type": "stream",
          "name": "stdout",
          "text": "Requirement already satisfied: psycopg2-binary in /anaconda/envs/azureml_py310_sdkv2/lib/python3.10/site-packages (2.9.10)\nNote: you may need to restart the kernel to use updated packages.\n"
        }
      ],
      "execution_count": 2,
      "metadata": {
        "jupyter": {
          "source_hidden": false,
          "outputs_hidden": false
        },
        "nteract": {
          "transient": {
            "deleting": false
          }
        },
        "gather": {
          "logged": 1736879341982
        }
      }
    },
    {
      "cell_type": "code",
      "source": [
        "import psycopg2\n",
        "import pandas as pd\n",
        "\n",
        "# Database connection parameters\n",
        "db_host = 'maritime-db-server.postgres.database.azure.com'\n",
        "db_name = 'maritime_db'\n",
        "db_user = 'maritime_user_kavinda'\n",
        "db_password = 'mdbuL5jW&xz#8'\n",
        "db_port = '5432'  # Default PostgreSQL port\n",
        "\n",
        "# Convert October and December 2023 to UNIX timestamps\n",
        "# October 2023: 1st October 00:00:00 (1696118400) to 31st October 23:59:59 (1698796799)\n",
        "# December 2023: 1st December 00:00:00 (1701388800) to 31st December 23:59:59 (1704067199)\n",
        "query = \"\"\"\n",
        "SELECT effective_from, imo_number, ship_id, mmsi, call_sign, ship_name, weight, \n",
        "       length, build_year, registered_owner, operator, flag_effective_date, \n",
        "       port_of_registry, classification_society, deadweight, breadth, \n",
        "       displacement, draught, group_beneficial_owner, ship_manager, \n",
        "       technical_manager, shipbuilder, country_of_build, flag_id \n",
        "FROM ais_shipinfo\n",
        "\"\"\"\n",
        "\n",
        "# Establish a connection and load data into a DataFrame\n",
        "try:\n",
        "    # Connect to the PostgreSQL database\n",
        "    connection = psycopg2.connect(\n",
        "        host=db_host,\n",
        "        database=db_name,\n",
        "        user=db_user,\n",
        "        password=db_password,\n",
        "        port=db_port\n",
        "    )\n",
        "\n",
        "    # Load data directly into a pandas DataFrame\n",
        "    df_all = pd.read_sql_query(query, connection)\n",
        "\n",
        "    # Display the first few rows of the DataFrame\n",
        "    print(df_all.head())\n",
        "\n",
        "except Exception as error:\n",
        "    print(f\"Error retrieving data: {error}\")\n",
        "\n",
        "finally:\n",
        "    if connection:\n",
        "        connection.close()\n",
        "        print(\"PostgreSQL connection closed.\")\n"
      ],
      "outputs": [
        {
          "output_type": "stream",
          "name": "stderr",
          "text": "/tmp/ipykernel_6799/2717242978.py:35: UserWarning: pandas only supports SQLAlchemy connectable (engine/connection) or database string URI or sqlite3 DBAPI2 connection. Other DBAPI2 objects are not tested. Please consider using SQLAlchemy.\n  df_all = pd.read_sql_query(query, connection)\n"
        }
      ],
      "execution_count": 3,
      "metadata": {
        "gather": {
          "logged": 1736879342576
        }
      }
    },
    {
      "cell_type": "code",
      "source": [
        "df_all.head()"
      ],
      "outputs": [
        {
          "output_type": "execute_result",
          "execution_count": 4,
          "data": {
            "text/plain": "                  effective_from imo_number ship_id       mmsi call_sign  \\\n0         2012-01-01 00:00:00+00    7726093     150  677040000    5IM500   \n1  2014-02-12 03:30:12.314334+00    7726093     150  677040000    5IM500   \n2  2014-02-12 03:30:14.510287+00    9184055     194  356361000     3FFD5   \n3         2012-01-01 00:00:00+00    9184055     194  356361000     3FFD5   \n4         2012-01-01 00:00:00+00    9150377     222  636012754     A8HQ3   \n\n      ship_name weight length build_year           registered_owner  ...  \\\n0       VENEZIA   2610     86       1980                        NaN  ...   \n1       VENEZIA   2610     86       1980       Mantion Shipping Ltd  ...   \n2  ASPAM SAMRAT   5404    107       1999  Aspam Samrat Shipping Inc  ...   \n3  ASPAM SAMRAT   5404    107       1999                        NaN  ...   \n4        NAUTIC  78845    274       1998       Crystal Holdings Ltd  ...   \n\n  deadweight breadth displacement draught group_beneficial_owner  \\\n0        NaN     NaN          NaN     NaN                    NaN   \n1     4510.0    14.3          0.0   6.763        B&B Shipping Co   \n2     6690.0    19.2       9399.0   6.013                Unknown   \n3        NaN     NaN          NaN     NaN                    NaN   \n4        NaN     NaN          NaN     NaN                    NaN   \n\n                ship_manager          technical_manager    shipbuilder  \\\n0                        NaN                        NaN            NaN   \n1            B&B Shipping Co       Mantion Shipping Ltd  Duro Felguera   \n2  Aurum Ship Management FZE  Aurum Ship Management FZE      Tachibana   \n3                        NaN                        NaN            NaN   \n4                        NaN                        NaN            NaN   \n\n  country_of_build flag_id  \n0              NaN     NaN  \n1            Spain     TZA  \n2            Japan     PAN  \n3              NaN     PAN  \n4              NaN     LBR  \n\n[5 rows x 24 columns]",
            "text/html": "<div>\n<style scoped>\n    .dataframe tbody tr th:only-of-type {\n        vertical-align: middle;\n    }\n\n    .dataframe tbody tr th {\n        vertical-align: top;\n    }\n\n    .dataframe thead th {\n        text-align: right;\n    }\n</style>\n<table border=\"1\" class=\"dataframe\">\n  <thead>\n    <tr style=\"text-align: right;\">\n      <th></th>\n      <th>effective_from</th>\n      <th>imo_number</th>\n      <th>ship_id</th>\n      <th>mmsi</th>\n      <th>call_sign</th>\n      <th>ship_name</th>\n      <th>weight</th>\n      <th>length</th>\n      <th>build_year</th>\n      <th>registered_owner</th>\n      <th>...</th>\n      <th>deadweight</th>\n      <th>breadth</th>\n      <th>displacement</th>\n      <th>draught</th>\n      <th>group_beneficial_owner</th>\n      <th>ship_manager</th>\n      <th>technical_manager</th>\n      <th>shipbuilder</th>\n      <th>country_of_build</th>\n      <th>flag_id</th>\n    </tr>\n  </thead>\n  <tbody>\n    <tr>\n      <th>0</th>\n      <td>2012-01-01 00:00:00+00</td>\n      <td>7726093</td>\n      <td>150</td>\n      <td>677040000</td>\n      <td>5IM500</td>\n      <td>VENEZIA</td>\n      <td>2610</td>\n      <td>86</td>\n      <td>1980</td>\n      <td>NaN</td>\n      <td>...</td>\n      <td>NaN</td>\n      <td>NaN</td>\n      <td>NaN</td>\n      <td>NaN</td>\n      <td>NaN</td>\n      <td>NaN</td>\n      <td>NaN</td>\n      <td>NaN</td>\n      <td>NaN</td>\n      <td>NaN</td>\n    </tr>\n    <tr>\n      <th>1</th>\n      <td>2014-02-12 03:30:12.314334+00</td>\n      <td>7726093</td>\n      <td>150</td>\n      <td>677040000</td>\n      <td>5IM500</td>\n      <td>VENEZIA</td>\n      <td>2610</td>\n      <td>86</td>\n      <td>1980</td>\n      <td>Mantion Shipping Ltd</td>\n      <td>...</td>\n      <td>4510.0</td>\n      <td>14.3</td>\n      <td>0.0</td>\n      <td>6.763</td>\n      <td>B&amp;B Shipping Co</td>\n      <td>B&amp;B Shipping Co</td>\n      <td>Mantion Shipping Ltd</td>\n      <td>Duro Felguera</td>\n      <td>Spain</td>\n      <td>TZA</td>\n    </tr>\n    <tr>\n      <th>2</th>\n      <td>2014-02-12 03:30:14.510287+00</td>\n      <td>9184055</td>\n      <td>194</td>\n      <td>356361000</td>\n      <td>3FFD5</td>\n      <td>ASPAM SAMRAT</td>\n      <td>5404</td>\n      <td>107</td>\n      <td>1999</td>\n      <td>Aspam Samrat Shipping Inc</td>\n      <td>...</td>\n      <td>6690.0</td>\n      <td>19.2</td>\n      <td>9399.0</td>\n      <td>6.013</td>\n      <td>Unknown</td>\n      <td>Aurum Ship Management FZE</td>\n      <td>Aurum Ship Management FZE</td>\n      <td>Tachibana</td>\n      <td>Japan</td>\n      <td>PAN</td>\n    </tr>\n    <tr>\n      <th>3</th>\n      <td>2012-01-01 00:00:00+00</td>\n      <td>9184055</td>\n      <td>194</td>\n      <td>356361000</td>\n      <td>3FFD5</td>\n      <td>ASPAM SAMRAT</td>\n      <td>5404</td>\n      <td>107</td>\n      <td>1999</td>\n      <td>NaN</td>\n      <td>...</td>\n      <td>NaN</td>\n      <td>NaN</td>\n      <td>NaN</td>\n      <td>NaN</td>\n      <td>NaN</td>\n      <td>NaN</td>\n      <td>NaN</td>\n      <td>NaN</td>\n      <td>NaN</td>\n      <td>PAN</td>\n    </tr>\n    <tr>\n      <th>4</th>\n      <td>2012-01-01 00:00:00+00</td>\n      <td>9150377</td>\n      <td>222</td>\n      <td>636012754</td>\n      <td>A8HQ3</td>\n      <td>NAUTIC</td>\n      <td>78845</td>\n      <td>274</td>\n      <td>1998</td>\n      <td>Crystal Holdings Ltd</td>\n      <td>...</td>\n      <td>NaN</td>\n      <td>NaN</td>\n      <td>NaN</td>\n      <td>NaN</td>\n      <td>NaN</td>\n      <td>NaN</td>\n      <td>NaN</td>\n      <td>NaN</td>\n      <td>NaN</td>\n      <td>LBR</td>\n    </tr>\n  </tbody>\n</table>\n<p>5 rows × 24 columns</p>\n</div>"
          },
          "metadata": {}
        }
      ],
      "execution_count": 4,
      "metadata": {
        "jupyter": {
          "source_hidden": false,
          "outputs_hidden": false
        },
        "nteract": {
          "transient": {
            "deleting": false
          }
        },
        "gather": {
          "logged": 1736879369035
        }
      }
    },
    {
      "cell_type": "code",
      "source": [
        "df_ais_shipinfo.to_csv(df_all, index=False)"
      ],
      "outputs": [],
      "execution_count": null,
      "metadata": {
        "jupyter": {
          "source_hidden": false,
          "outputs_hidden": false
        },
        "nteract": {
          "transient": {
            "deleting": false
          }
        }
      }
    }
  ],
  "metadata": {
    "kernelspec": {
      "name": "python310-sdkv2",
      "language": "python",
      "display_name": "Python 3.10 - SDK v2"
    },
    "language_info": {
      "name": "python",
      "version": "3.10.14",
      "mimetype": "text/x-python",
      "codemirror_mode": {
        "name": "ipython",
        "version": 3
      },
      "pygments_lexer": "ipython3",
      "nbconvert_exporter": "python",
      "file_extension": ".py"
    },
    "microsoft": {
      "ms_spell_check": {
        "ms_spell_check_language": "en"
      },
      "host": {
        "AzureML": {
          "notebookHasBeenCompleted": true
        }
      }
    },
    "kernel_info": {
      "name": "python310-sdkv2"
    },
    "nteract": {
      "version": "nteract-front-end@1.0.0"
    }
  },
  "nbformat": 4,
  "nbformat_minor": 2
}